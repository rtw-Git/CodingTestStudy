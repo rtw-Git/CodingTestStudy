#https://programmers.co.kr/learn/courses/30/lessons/12932

def solution(n):
    answer = []
    
    while n>0:
        answer.append(n%10)
        n //= 10            # //: 몫만 추출하는 연산자

    return answer
